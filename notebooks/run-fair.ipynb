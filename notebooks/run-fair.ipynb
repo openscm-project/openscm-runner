{
 "cells": [
  {
   "cell_type": "markdown",
   "metadata": {},
   "source": [
    "# Minimal OpenSCM-Runner example with FaIR\n",
    "\n",
    "Requires fair >= 1.6.0a (to be released) and < 2.0.0"
   ]
  },
  {
   "cell_type": "code",
   "execution_count": 1,
   "metadata": {},
   "outputs": [],
   "source": [
    "import openscm_runner"
   ]
  },
  {
   "cell_type": "code",
   "execution_count": 2,
   "metadata": {},
   "outputs": [
    {
     "name": "stdout",
     "output_type": "stream",
     "text": [
      "0.1.0-alpha.1+20.g3fe63c6.dirty\n"
     ]
    }
   ],
   "source": [
    "# NBVAL_IGNORE_OUTPUT\n",
    "print(openscm_runner.__version__)"
   ]
  },
  {
   "cell_type": "code",
   "execution_count": 3,
   "metadata": {},
   "outputs": [
    {
     "data": {
      "application/javascript": [
       "IPython.OutputArea.prototype._should_scroll = function(lines) { return false; }"
      ],
      "text/plain": [
       "<IPython.core.display.Javascript object>"
      ]
     },
     "metadata": {},
     "output_type": "display_data"
    },
    {
     "name": "stderr",
     "output_type": "stream",
     "text": [
      "pyam - INFO: Running in a notebook, setting `pyam` logging level to `logging.INFO` and adding stderr handler\n",
      "/nfs/b0110/Users/mencsm/openscm-runner/src/openscm_runner/run.py:5: TqdmExperimentalWarning: Using `tqdm.autonotebook.tqdm` in notebook mode. Use `tqdm.tqdm` instead to force console mode (e.g. in jupyter console)\n",
      "  from tqdm.autonotebook import tqdm\n"
     ]
    }
   ],
   "source": [
    "import pandas as pd\n",
    "import pyam\n",
    "import numpy as np\n",
    "import matplotlib.pyplot as pl\n",
    "\n",
    "from tqdm import tqdm_notebook\n",
    "\n",
    "from openscm_runner.run import run\n",
    "from openscm_runner.adapters import FAIR\n",
    "from fair.tools.scmdf import scmdf_to_emissions\n",
    "\n",
    "from fair.forward import fair_scm"
   ]
  },
  {
   "cell_type": "code",
   "execution_count": 4,
   "metadata": {},
   "outputs": [],
   "source": [
    "fair=FAIR()"
   ]
  },
  {
   "cell_type": "code",
   "execution_count": 5,
   "metadata": {},
   "outputs": [
    {
     "data": {
      "text/plain": [
       "'1.5.1+5.g80440d2.dirty'"
      ]
     },
     "execution_count": 5,
     "metadata": {},
     "output_type": "execute_result"
    }
   ],
   "source": [
    "fair.get_version()"
   ]
  },
  {
   "cell_type": "code",
   "execution_count": 6,
   "metadata": {},
   "outputs": [],
   "source": [
    "df = pd.read_csv('../data/tiny_example_emissions_harmonized_infilled.csv')\n",
    "df = pyam.IamDataFrame(df)\n",
    "df_clean = df.filter(variable=\"*Infilled*\")\n",
    "df_fair = pyam.IamDataFrame(df_clean.timeseries().reset_index())"
   ]
  },
  {
   "cell_type": "code",
   "execution_count": 7,
   "metadata": {
    "scrolled": true
   },
   "outputs": [
    {
     "data": {
      "application/vnd.jupyter.widget-view+json": {
       "model_id": "3ec57046b26d4488886b2ac080b1d70f",
       "version_major": 2,
       "version_minor": 0
      },
      "text/plain": [
       "HBox(children=(FloatProgress(value=0.0, description='Climate models', max=1.0, style=ProgressStyle(description…"
      ]
     },
     "metadata": {},
     "output_type": "display_data"
    },
    {
     "data": {
      "application/vnd.jupyter.widget-view+json": {
       "model_id": "b337cdc4cd484f8a9927a7dde0c97553",
       "version_major": 2,
       "version_minor": 0
      },
      "text/plain": [
       "HBox(children=(FloatProgress(value=0.0, description='Creating FaIR emissions files', max=3.0, style=ProgressSt…"
      ]
     },
     "metadata": {},
     "output_type": "display_data"
    },
    {
     "name": "stdout",
     "output_type": "stream",
     "text": [
      "\n",
      "\n"
     ]
    }
   ],
   "source": [
    "x = run(\n",
    "    climate_models_cfgs={\n",
    "            \"FAIR\": [{}],   # passing an empty list of an empty dict will run with defaults\n",
    "        },\n",
    "    scenarios=df_fair,\n",
    "    output_variables=('Surface Temperature',)\n",
    ")"
   ]
  },
  {
   "cell_type": "code",
   "execution_count": 8,
   "metadata": {},
   "outputs": [
    {
     "data": {
      "text/html": [
       "<div>\n",
       "<style scoped>\n",
       "    .dataframe tbody tr th:only-of-type {\n",
       "        vertical-align: middle;\n",
       "    }\n",
       "\n",
       "    .dataframe tbody tr th {\n",
       "        vertical-align: top;\n",
       "    }\n",
       "\n",
       "    .dataframe thead th {\n",
       "        text-align: right;\n",
       "    }\n",
       "</style>\n",
       "<table border=\"1\" class=\"dataframe\">\n",
       "  <thead>\n",
       "    <tr style=\"text-align: right;\">\n",
       "      <th></th>\n",
       "      <th></th>\n",
       "      <th></th>\n",
       "      <th></th>\n",
       "      <th>time</th>\n",
       "      <th>1765-01-01</th>\n",
       "      <th>1766-01-01</th>\n",
       "      <th>1767-01-01</th>\n",
       "      <th>1768-01-01</th>\n",
       "      <th>1769-01-01</th>\n",
       "      <th>1770-01-01</th>\n",
       "      <th>1771-01-01</th>\n",
       "      <th>1772-01-01</th>\n",
       "      <th>1773-01-01</th>\n",
       "      <th>1774-01-01</th>\n",
       "      <th>...</th>\n",
       "      <th>2091-01-01</th>\n",
       "      <th>2092-01-01</th>\n",
       "      <th>2093-01-01</th>\n",
       "      <th>2094-01-01</th>\n",
       "      <th>2095-01-01</th>\n",
       "      <th>2096-01-01</th>\n",
       "      <th>2097-01-01</th>\n",
       "      <th>2098-01-01</th>\n",
       "      <th>2099-01-01</th>\n",
       "      <th>2100-01-01</th>\n",
       "    </tr>\n",
       "    <tr>\n",
       "      <th>model</th>\n",
       "      <th>scenario</th>\n",
       "      <th>region</th>\n",
       "      <th>variable</th>\n",
       "      <th>unit</th>\n",
       "      <th></th>\n",
       "      <th></th>\n",
       "      <th></th>\n",
       "      <th></th>\n",
       "      <th></th>\n",
       "      <th></th>\n",
       "      <th></th>\n",
       "      <th></th>\n",
       "      <th></th>\n",
       "      <th></th>\n",
       "      <th></th>\n",
       "      <th></th>\n",
       "      <th></th>\n",
       "      <th></th>\n",
       "      <th></th>\n",
       "      <th></th>\n",
       "      <th></th>\n",
       "      <th></th>\n",
       "      <th></th>\n",
       "      <th></th>\n",
       "      <th></th>\n",
       "    </tr>\n",
       "  </thead>\n",
       "  <tbody>\n",
       "    <tr>\n",
       "      <th>model1</th>\n",
       "      <th>1point5</th>\n",
       "      <th>unspecified</th>\n",
       "      <th>Surface Temperature</th>\n",
       "      <th>K</th>\n",
       "      <td>0.006648</td>\n",
       "      <td>0.01256</td>\n",
       "      <td>0.018838</td>\n",
       "      <td>0.028964</td>\n",
       "      <td>0.040336</td>\n",
       "      <td>0.052402</td>\n",
       "      <td>0.059805</td>\n",
       "      <td>0.061209</td>\n",
       "      <td>0.062393</td>\n",
       "      <td>0.06282</td>\n",
       "      <td>...</td>\n",
       "      <td>1.557889</td>\n",
       "      <td>1.566841</td>\n",
       "      <td>1.572818</td>\n",
       "      <td>1.575093</td>\n",
       "      <td>1.575041</td>\n",
       "      <td>1.572774</td>\n",
       "      <td>1.570512</td>\n",
       "      <td>1.568306</td>\n",
       "      <td>1.568151</td>\n",
       "      <td>1.571126</td>\n",
       "    </tr>\n",
       "    <tr>\n",
       "      <th rowspan=\"2\" valign=\"top\">model2</th>\n",
       "      <th>1point5</th>\n",
       "      <th>unspecified</th>\n",
       "      <th>Surface Temperature</th>\n",
       "      <th>K</th>\n",
       "      <td>0.006648</td>\n",
       "      <td>0.01256</td>\n",
       "      <td>0.018838</td>\n",
       "      <td>0.028964</td>\n",
       "      <td>0.040336</td>\n",
       "      <td>0.052402</td>\n",
       "      <td>0.059805</td>\n",
       "      <td>0.061209</td>\n",
       "      <td>0.062393</td>\n",
       "      <td>0.06282</td>\n",
       "      <td>...</td>\n",
       "      <td>1.573470</td>\n",
       "      <td>1.581457</td>\n",
       "      <td>1.586486</td>\n",
       "      <td>1.587807</td>\n",
       "      <td>1.586774</td>\n",
       "      <td>1.583489</td>\n",
       "      <td>1.580161</td>\n",
       "      <td>1.576840</td>\n",
       "      <td>1.575516</td>\n",
       "      <td>1.577266</td>\n",
       "    </tr>\n",
       "    <tr>\n",
       "      <th>2point0</th>\n",
       "      <th>unspecified</th>\n",
       "      <th>Surface Temperature</th>\n",
       "      <th>K</th>\n",
       "      <td>0.006648</td>\n",
       "      <td>0.01256</td>\n",
       "      <td>0.018838</td>\n",
       "      <td>0.028964</td>\n",
       "      <td>0.040336</td>\n",
       "      <td>0.052402</td>\n",
       "      <td>0.059805</td>\n",
       "      <td>0.061209</td>\n",
       "      <td>0.062393</td>\n",
       "      <td>0.06282</td>\n",
       "      <td>...</td>\n",
       "      <td>1.655035</td>\n",
       "      <td>1.663196</td>\n",
       "      <td>1.668396</td>\n",
       "      <td>1.669886</td>\n",
       "      <td>1.669020</td>\n",
       "      <td>1.665900</td>\n",
       "      <td>1.662736</td>\n",
       "      <td>1.659575</td>\n",
       "      <td>1.658411</td>\n",
       "      <td>1.660317</td>\n",
       "    </tr>\n",
       "  </tbody>\n",
       "</table>\n",
       "<p>3 rows × 336 columns</p>\n",
       "</div>"
      ],
      "text/plain": [
       "time                                                  1765-01-01  1766-01-01  \\\n",
       "model  scenario region      variable            unit                           \n",
       "model1 1point5  unspecified Surface Temperature K       0.006648     0.01256   \n",
       "model2 1point5  unspecified Surface Temperature K       0.006648     0.01256   \n",
       "       2point0  unspecified Surface Temperature K       0.006648     0.01256   \n",
       "\n",
       "time                                                  1767-01-01  1768-01-01  \\\n",
       "model  scenario region      variable            unit                           \n",
       "model1 1point5  unspecified Surface Temperature K       0.018838    0.028964   \n",
       "model2 1point5  unspecified Surface Temperature K       0.018838    0.028964   \n",
       "       2point0  unspecified Surface Temperature K       0.018838    0.028964   \n",
       "\n",
       "time                                                  1769-01-01  1770-01-01  \\\n",
       "model  scenario region      variable            unit                           \n",
       "model1 1point5  unspecified Surface Temperature K       0.040336    0.052402   \n",
       "model2 1point5  unspecified Surface Temperature K       0.040336    0.052402   \n",
       "       2point0  unspecified Surface Temperature K       0.040336    0.052402   \n",
       "\n",
       "time                                                  1771-01-01  1772-01-01  \\\n",
       "model  scenario region      variable            unit                           \n",
       "model1 1point5  unspecified Surface Temperature K       0.059805    0.061209   \n",
       "model2 1point5  unspecified Surface Temperature K       0.059805    0.061209   \n",
       "       2point0  unspecified Surface Temperature K       0.059805    0.061209   \n",
       "\n",
       "time                                                  1773-01-01  1774-01-01  \\\n",
       "model  scenario region      variable            unit                           \n",
       "model1 1point5  unspecified Surface Temperature K       0.062393     0.06282   \n",
       "model2 1point5  unspecified Surface Temperature K       0.062393     0.06282   \n",
       "       2point0  unspecified Surface Temperature K       0.062393     0.06282   \n",
       "\n",
       "time                                                  ...  2091-01-01  \\\n",
       "model  scenario region      variable            unit  ...               \n",
       "model1 1point5  unspecified Surface Temperature K     ...    1.557889   \n",
       "model2 1point5  unspecified Surface Temperature K     ...    1.573470   \n",
       "       2point0  unspecified Surface Temperature K     ...    1.655035   \n",
       "\n",
       "time                                                  2092-01-01  2093-01-01  \\\n",
       "model  scenario region      variable            unit                           \n",
       "model1 1point5  unspecified Surface Temperature K       1.566841    1.572818   \n",
       "model2 1point5  unspecified Surface Temperature K       1.581457    1.586486   \n",
       "       2point0  unspecified Surface Temperature K       1.663196    1.668396   \n",
       "\n",
       "time                                                  2094-01-01  2095-01-01  \\\n",
       "model  scenario region      variable            unit                           \n",
       "model1 1point5  unspecified Surface Temperature K       1.575093    1.575041   \n",
       "model2 1point5  unspecified Surface Temperature K       1.587807    1.586774   \n",
       "       2point0  unspecified Surface Temperature K       1.669886    1.669020   \n",
       "\n",
       "time                                                  2096-01-01  2097-01-01  \\\n",
       "model  scenario region      variable            unit                           \n",
       "model1 1point5  unspecified Surface Temperature K       1.572774    1.570512   \n",
       "model2 1point5  unspecified Surface Temperature K       1.583489    1.580161   \n",
       "       2point0  unspecified Surface Temperature K       1.665900    1.662736   \n",
       "\n",
       "time                                                  2098-01-01  2099-01-01  \\\n",
       "model  scenario region      variable            unit                           \n",
       "model1 1point5  unspecified Surface Temperature K       1.568306    1.568151   \n",
       "model2 1point5  unspecified Surface Temperature K       1.576840    1.575516   \n",
       "       2point0  unspecified Surface Temperature K       1.659575    1.658411   \n",
       "\n",
       "time                                                  2100-01-01  \n",
       "model  scenario region      variable            unit              \n",
       "model1 1point5  unspecified Surface Temperature K       1.571126  \n",
       "model2 1point5  unspecified Surface Temperature K       1.577266  \n",
       "       2point0  unspecified Surface Temperature K       1.660317  \n",
       "\n",
       "[3 rows x 336 columns]"
      ]
     },
     "execution_count": 8,
     "metadata": {},
     "output_type": "execute_result"
    }
   ],
   "source": [
    "x.timeseries()"
   ]
  }
 ],
 "metadata": {
  "kernelspec": {
   "display_name": "Python 3",
   "language": "python",
   "name": "python3"
  },
  "language_info": {
   "codemirror_mode": {
    "name": "ipython",
    "version": 3
   },
   "file_extension": ".py",
   "mimetype": "text/x-python",
   "name": "python",
   "nbconvert_exporter": "python",
   "pygments_lexer": "ipython3",
   "version": "3.7.7"
  }
 },
 "nbformat": 4,
 "nbformat_minor": 4
}
