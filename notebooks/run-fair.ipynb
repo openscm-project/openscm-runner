{
 "cells": [
  {
   "cell_type": "markdown",
   "metadata": {},
   "source": [
    "# Minimal OpenSCM-Runner example with FaIR\n",
    "\n",
    "Requires fair >= 1.6.0a3 and < 2.0.0"
   ]
  },
  {
   "cell_type": "code",
   "execution_count": 1,
   "metadata": {},
   "outputs": [],
   "source": [
    "import openscm_runner"
   ]
  },
  {
   "cell_type": "code",
   "execution_count": 2,
   "metadata": {},
   "outputs": [
    {
     "name": "stdout",
     "output_type": "stream",
     "text": [
      "0.1.0-alpha.1+13.g511286c.dirty\n"
     ]
    }
   ],
   "source": [
    "# NBVAL_IGNORE_OUTPUT\n",
    "print(openscm_runner.__version__)"
   ]
  },
  {
   "cell_type": "code",
   "execution_count": 3,
   "metadata": {},
   "outputs": [
    {
     "data": {
      "application/javascript": [
       "IPython.OutputArea.prototype._should_scroll = function(lines) { return false; }"
      ],
      "text/plain": [
       "<IPython.core.display.Javascript object>"
      ]
     },
     "metadata": {},
     "output_type": "display_data"
    },
    {
     "name": "stderr",
     "output_type": "stream",
     "text": [
      "pyam - INFO: Running in a notebook, setting `pyam` logging level to `logging.INFO` and adding stderr handler\n",
      "/nfs/b0110/Users/mencsm/openscm-runner/src/openscm_runner/run.py:5: TqdmExperimentalWarning: Using `tqdm.autonotebook.tqdm` in notebook mode. Use `tqdm.tqdm` instead to force console mode (e.g. in jupyter console)\n",
      "  from tqdm.autonotebook import tqdm\n"
     ]
    }
   ],
   "source": [
    "import pandas as pd\n",
    "import pyam\n",
    "import numpy as np\n",
    "import matplotlib.pyplot as pl\n",
    "\n",
    "from tqdm import tqdm_notebook\n",
    "\n",
    "from openscm_runner.run import run\n",
    "from openscm_runner.adapters import FAIR\n",
    "from fair.tools.scmdf import scmdf_to_emissions\n",
    "\n",
    "from fair.forward import fair_scm"
   ]
  },
  {
   "cell_type": "code",
   "execution_count": 4,
   "metadata": {},
   "outputs": [],
   "source": [
    "fair=FAIR()"
   ]
  },
  {
   "cell_type": "code",
   "execution_count": 5,
   "metadata": {},
   "outputs": [
    {
     "data": {
      "text/plain": [
       "'1.6.0a3'"
      ]
     },
     "execution_count": 5,
     "metadata": {},
     "output_type": "execute_result"
    }
   ],
   "source": [
    "fair.get_version()"
   ]
  },
  {
   "cell_type": "code",
   "execution_count": 6,
   "metadata": {},
   "outputs": [],
   "source": [
    "df = pd.read_csv('../data/tiny_example_emissions_harmonized_infilled.csv')\n",
    "df = pyam.IamDataFrame(df)\n",
    "df_clean = df.filter(variable=\"*Infilled*\")\n",
    "df_fair = pyam.IamDataFrame(df_clean.timeseries().reset_index())"
   ]
  },
  {
   "cell_type": "code",
   "execution_count": 7,
   "metadata": {
    "scrolled": true
   },
   "outputs": [
    {
     "data": {
      "application/vnd.jupyter.widget-view+json": {
       "model_id": "11f75151448d4be3adb9db90e85f439d",
       "version_major": 2,
       "version_minor": 0
      },
      "text/plain": [
       "HBox(children=(FloatProgress(value=0.0, description='Climate models', max=1.0, style=ProgressStyle(description…"
      ]
     },
     "metadata": {},
     "output_type": "display_data"
    },
    {
     "data": {
      "application/vnd.jupyter.widget-view+json": {
       "model_id": "038bfafbe1bd403f85ffdfda13799ee2",
       "version_major": 2,
       "version_minor": 0
      },
      "text/plain": [
       "HBox(children=(FloatProgress(value=0.0, description='Creating FaIR emissions files', max=3.0, style=ProgressSt…"
      ]
     },
     "metadata": {},
     "output_type": "display_data"
    },
    {
     "name": "stdout",
     "output_type": "stream",
     "text": [
      "\n",
      "\n"
     ]
    }
   ],
   "source": [
    "x = run(\n",
    "    climate_models_cfgs={\n",
    "            \"FAIR\": [{}],   # passing an empty list of an empty dict will run with defaults\n",
    "        },\n",
    "    scenarios=df_fair,\n",
    "    output_variables=('Surface Temperature','Atmospheric Concentrations|CO2')\n",
    ")"
   ]
  },
  {
   "cell_type": "code",
   "execution_count": 8,
   "metadata": {},
   "outputs": [],
   "source": [
    "x = x.timeseries()"
   ]
  },
  {
   "cell_type": "code",
   "execution_count": 9,
   "metadata": {},
   "outputs": [
    {
     "data": {
      "text/html": [
       "<div>\n",
       "<style scoped>\n",
       "    .dataframe tbody tr th:only-of-type {\n",
       "        vertical-align: middle;\n",
       "    }\n",
       "\n",
       "    .dataframe tbody tr th {\n",
       "        vertical-align: top;\n",
       "    }\n",
       "\n",
       "    .dataframe thead th {\n",
       "        text-align: right;\n",
       "    }\n",
       "</style>\n",
       "<table border=\"1\" class=\"dataframe\">\n",
       "  <thead>\n",
       "    <tr style=\"text-align: right;\">\n",
       "      <th></th>\n",
       "      <th></th>\n",
       "      <th></th>\n",
       "      <th></th>\n",
       "      <th>time</th>\n",
       "      <th>1765-01-01</th>\n",
       "      <th>1766-01-01</th>\n",
       "      <th>1767-01-01</th>\n",
       "      <th>1768-01-01</th>\n",
       "      <th>1769-01-01</th>\n",
       "      <th>1770-01-01</th>\n",
       "      <th>1771-01-01</th>\n",
       "      <th>1772-01-01</th>\n",
       "      <th>1773-01-01</th>\n",
       "      <th>1774-01-01</th>\n",
       "      <th>...</th>\n",
       "      <th>2091-01-01</th>\n",
       "      <th>2092-01-01</th>\n",
       "      <th>2093-01-01</th>\n",
       "      <th>2094-01-01</th>\n",
       "      <th>2095-01-01</th>\n",
       "      <th>2096-01-01</th>\n",
       "      <th>2097-01-01</th>\n",
       "      <th>2098-01-01</th>\n",
       "      <th>2099-01-01</th>\n",
       "      <th>2100-01-01</th>\n",
       "    </tr>\n",
       "    <tr>\n",
       "      <th>model</th>\n",
       "      <th>scenario</th>\n",
       "      <th>region</th>\n",
       "      <th>variable</th>\n",
       "      <th>unit</th>\n",
       "      <th></th>\n",
       "      <th></th>\n",
       "      <th></th>\n",
       "      <th></th>\n",
       "      <th></th>\n",
       "      <th></th>\n",
       "      <th></th>\n",
       "      <th></th>\n",
       "      <th></th>\n",
       "      <th></th>\n",
       "      <th></th>\n",
       "      <th></th>\n",
       "      <th></th>\n",
       "      <th></th>\n",
       "      <th></th>\n",
       "      <th></th>\n",
       "      <th></th>\n",
       "      <th></th>\n",
       "      <th></th>\n",
       "      <th></th>\n",
       "      <th></th>\n",
       "    </tr>\n",
       "  </thead>\n",
       "  <tbody>\n",
       "    <tr>\n",
       "      <th rowspan=\"2\" valign=\"top\">model1</th>\n",
       "      <th rowspan=\"2\" valign=\"top\">1point5</th>\n",
       "      <th rowspan=\"2\" valign=\"top\">unspecified</th>\n",
       "      <th>Surface Temperature</th>\n",
       "      <th>K</th>\n",
       "      <td>0.007050</td>\n",
       "      <td>0.013413</td>\n",
       "      <td>0.020179</td>\n",
       "      <td>0.029607</td>\n",
       "      <td>0.042047</td>\n",
       "      <td>0.055639</td>\n",
       "      <td>0.066724</td>\n",
       "      <td>0.071419</td>\n",
       "      <td>0.072585</td>\n",
       "      <td>0.073214</td>\n",
       "      <td>...</td>\n",
       "      <td>1.771435</td>\n",
       "      <td>1.780465</td>\n",
       "      <td>1.788800</td>\n",
       "      <td>1.793101</td>\n",
       "      <td>1.793840</td>\n",
       "      <td>1.791897</td>\n",
       "      <td>1.788727</td>\n",
       "      <td>1.785634</td>\n",
       "      <td>1.783879</td>\n",
       "      <td>1.785260</td>\n",
       "    </tr>\n",
       "    <tr>\n",
       "      <th>Atmospheric Concentrations|CO2</th>\n",
       "      <th>ppm</th>\n",
       "      <td>278.051553</td>\n",
       "      <td>278.068543</td>\n",
       "      <td>278.102421</td>\n",
       "      <td>278.135919</td>\n",
       "      <td>278.168881</td>\n",
       "      <td>278.201378</td>\n",
       "      <td>278.233506</td>\n",
       "      <td>278.265425</td>\n",
       "      <td>278.297176</td>\n",
       "      <td>278.328729</td>\n",
       "      <td>...</td>\n",
       "      <td>449.740582</td>\n",
       "      <td>449.502258</td>\n",
       "      <td>449.269128</td>\n",
       "      <td>449.040769</td>\n",
       "      <td>448.816213</td>\n",
       "      <td>448.594325</td>\n",
       "      <td>448.374222</td>\n",
       "      <td>448.155331</td>\n",
       "      <td>447.937386</td>\n",
       "      <td>447.720382</td>\n",
       "    </tr>\n",
       "    <tr>\n",
       "      <th rowspan=\"4\" valign=\"top\">model2</th>\n",
       "      <th rowspan=\"2\" valign=\"top\">1point5</th>\n",
       "      <th rowspan=\"2\" valign=\"top\">unspecified</th>\n",
       "      <th>Surface Temperature</th>\n",
       "      <th>K</th>\n",
       "      <td>0.007050</td>\n",
       "      <td>0.013413</td>\n",
       "      <td>0.020179</td>\n",
       "      <td>0.029607</td>\n",
       "      <td>0.042047</td>\n",
       "      <td>0.055639</td>\n",
       "      <td>0.066724</td>\n",
       "      <td>0.071419</td>\n",
       "      <td>0.072585</td>\n",
       "      <td>0.073214</td>\n",
       "      <td>...</td>\n",
       "      <td>1.789245</td>\n",
       "      <td>1.797127</td>\n",
       "      <td>1.804354</td>\n",
       "      <td>1.807553</td>\n",
       "      <td>1.807169</td>\n",
       "      <td>1.804065</td>\n",
       "      <td>1.799684</td>\n",
       "      <td>1.795322</td>\n",
       "      <td>1.792238</td>\n",
       "      <td>1.792224</td>\n",
       "    </tr>\n",
       "    <tr>\n",
       "      <th>Atmospheric Concentrations|CO2</th>\n",
       "      <th>ppm</th>\n",
       "      <td>278.051553</td>\n",
       "      <td>278.068543</td>\n",
       "      <td>278.102421</td>\n",
       "      <td>278.135919</td>\n",
       "      <td>278.168881</td>\n",
       "      <td>278.201378</td>\n",
       "      <td>278.233506</td>\n",
       "      <td>278.265425</td>\n",
       "      <td>278.297176</td>\n",
       "      <td>278.328729</td>\n",
       "      <td>...</td>\n",
       "      <td>450.123424</td>\n",
       "      <td>449.883644</td>\n",
       "      <td>449.648942</td>\n",
       "      <td>449.418916</td>\n",
       "      <td>449.192602</td>\n",
       "      <td>448.968863</td>\n",
       "      <td>448.746809</td>\n",
       "      <td>448.525858</td>\n",
       "      <td>448.305741</td>\n",
       "      <td>448.086446</td>\n",
       "    </tr>\n",
       "    <tr>\n",
       "      <th rowspan=\"2\" valign=\"top\">2point0</th>\n",
       "      <th rowspan=\"2\" valign=\"top\">unspecified</th>\n",
       "      <th>Surface Temperature</th>\n",
       "      <th>K</th>\n",
       "      <td>0.007050</td>\n",
       "      <td>0.013413</td>\n",
       "      <td>0.020179</td>\n",
       "      <td>0.029607</td>\n",
       "      <td>0.042047</td>\n",
       "      <td>0.055639</td>\n",
       "      <td>0.066724</td>\n",
       "      <td>0.071419</td>\n",
       "      <td>0.072585</td>\n",
       "      <td>0.073214</td>\n",
       "      <td>...</td>\n",
       "      <td>1.882770</td>\n",
       "      <td>1.890843</td>\n",
       "      <td>1.898257</td>\n",
       "      <td>1.901639</td>\n",
       "      <td>1.901435</td>\n",
       "      <td>1.898508</td>\n",
       "      <td>1.894302</td>\n",
       "      <td>1.890113</td>\n",
       "      <td>1.887198</td>\n",
       "      <td>1.887352</td>\n",
       "    </tr>\n",
       "    <tr>\n",
       "      <th>Atmospheric Concentrations|CO2</th>\n",
       "      <th>ppm</th>\n",
       "      <td>278.051553</td>\n",
       "      <td>278.068543</td>\n",
       "      <td>278.102421</td>\n",
       "      <td>278.135919</td>\n",
       "      <td>278.168881</td>\n",
       "      <td>278.201378</td>\n",
       "      <td>278.233506</td>\n",
       "      <td>278.265425</td>\n",
       "      <td>278.297176</td>\n",
       "      <td>278.328729</td>\n",
       "      <td>...</td>\n",
       "      <td>465.138584</td>\n",
       "      <td>464.892781</td>\n",
       "      <td>464.652229</td>\n",
       "      <td>464.416474</td>\n",
       "      <td>464.184426</td>\n",
       "      <td>463.954801</td>\n",
       "      <td>463.726589</td>\n",
       "      <td>463.499132</td>\n",
       "      <td>463.272123</td>\n",
       "      <td>463.045550</td>\n",
       "    </tr>\n",
       "  </tbody>\n",
       "</table>\n",
       "<p>6 rows × 336 columns</p>\n",
       "</div>"
      ],
      "text/plain": [
       "time                                                             1765-01-01  \\\n",
       "model  scenario region      variable                       unit               \n",
       "model1 1point5  unspecified Surface Temperature            K       0.007050   \n",
       "                            Atmospheric Concentrations|CO2 ppm   278.051553   \n",
       "model2 1point5  unspecified Surface Temperature            K       0.007050   \n",
       "                            Atmospheric Concentrations|CO2 ppm   278.051553   \n",
       "       2point0  unspecified Surface Temperature            K       0.007050   \n",
       "                            Atmospheric Concentrations|CO2 ppm   278.051553   \n",
       "\n",
       "time                                                             1766-01-01  \\\n",
       "model  scenario region      variable                       unit               \n",
       "model1 1point5  unspecified Surface Temperature            K       0.013413   \n",
       "                            Atmospheric Concentrations|CO2 ppm   278.068543   \n",
       "model2 1point5  unspecified Surface Temperature            K       0.013413   \n",
       "                            Atmospheric Concentrations|CO2 ppm   278.068543   \n",
       "       2point0  unspecified Surface Temperature            K       0.013413   \n",
       "                            Atmospheric Concentrations|CO2 ppm   278.068543   \n",
       "\n",
       "time                                                             1767-01-01  \\\n",
       "model  scenario region      variable                       unit               \n",
       "model1 1point5  unspecified Surface Temperature            K       0.020179   \n",
       "                            Atmospheric Concentrations|CO2 ppm   278.102421   \n",
       "model2 1point5  unspecified Surface Temperature            K       0.020179   \n",
       "                            Atmospheric Concentrations|CO2 ppm   278.102421   \n",
       "       2point0  unspecified Surface Temperature            K       0.020179   \n",
       "                            Atmospheric Concentrations|CO2 ppm   278.102421   \n",
       "\n",
       "time                                                             1768-01-01  \\\n",
       "model  scenario region      variable                       unit               \n",
       "model1 1point5  unspecified Surface Temperature            K       0.029607   \n",
       "                            Atmospheric Concentrations|CO2 ppm   278.135919   \n",
       "model2 1point5  unspecified Surface Temperature            K       0.029607   \n",
       "                            Atmospheric Concentrations|CO2 ppm   278.135919   \n",
       "       2point0  unspecified Surface Temperature            K       0.029607   \n",
       "                            Atmospheric Concentrations|CO2 ppm   278.135919   \n",
       "\n",
       "time                                                             1769-01-01  \\\n",
       "model  scenario region      variable                       unit               \n",
       "model1 1point5  unspecified Surface Temperature            K       0.042047   \n",
       "                            Atmospheric Concentrations|CO2 ppm   278.168881   \n",
       "model2 1point5  unspecified Surface Temperature            K       0.042047   \n",
       "                            Atmospheric Concentrations|CO2 ppm   278.168881   \n",
       "       2point0  unspecified Surface Temperature            K       0.042047   \n",
       "                            Atmospheric Concentrations|CO2 ppm   278.168881   \n",
       "\n",
       "time                                                             1770-01-01  \\\n",
       "model  scenario region      variable                       unit               \n",
       "model1 1point5  unspecified Surface Temperature            K       0.055639   \n",
       "                            Atmospheric Concentrations|CO2 ppm   278.201378   \n",
       "model2 1point5  unspecified Surface Temperature            K       0.055639   \n",
       "                            Atmospheric Concentrations|CO2 ppm   278.201378   \n",
       "       2point0  unspecified Surface Temperature            K       0.055639   \n",
       "                            Atmospheric Concentrations|CO2 ppm   278.201378   \n",
       "\n",
       "time                                                             1771-01-01  \\\n",
       "model  scenario region      variable                       unit               \n",
       "model1 1point5  unspecified Surface Temperature            K       0.066724   \n",
       "                            Atmospheric Concentrations|CO2 ppm   278.233506   \n",
       "model2 1point5  unspecified Surface Temperature            K       0.066724   \n",
       "                            Atmospheric Concentrations|CO2 ppm   278.233506   \n",
       "       2point0  unspecified Surface Temperature            K       0.066724   \n",
       "                            Atmospheric Concentrations|CO2 ppm   278.233506   \n",
       "\n",
       "time                                                             1772-01-01  \\\n",
       "model  scenario region      variable                       unit               \n",
       "model1 1point5  unspecified Surface Temperature            K       0.071419   \n",
       "                            Atmospheric Concentrations|CO2 ppm   278.265425   \n",
       "model2 1point5  unspecified Surface Temperature            K       0.071419   \n",
       "                            Atmospheric Concentrations|CO2 ppm   278.265425   \n",
       "       2point0  unspecified Surface Temperature            K       0.071419   \n",
       "                            Atmospheric Concentrations|CO2 ppm   278.265425   \n",
       "\n",
       "time                                                             1773-01-01  \\\n",
       "model  scenario region      variable                       unit               \n",
       "model1 1point5  unspecified Surface Temperature            K       0.072585   \n",
       "                            Atmospheric Concentrations|CO2 ppm   278.297176   \n",
       "model2 1point5  unspecified Surface Temperature            K       0.072585   \n",
       "                            Atmospheric Concentrations|CO2 ppm   278.297176   \n",
       "       2point0  unspecified Surface Temperature            K       0.072585   \n",
       "                            Atmospheric Concentrations|CO2 ppm   278.297176   \n",
       "\n",
       "time                                                             1774-01-01  \\\n",
       "model  scenario region      variable                       unit               \n",
       "model1 1point5  unspecified Surface Temperature            K       0.073214   \n",
       "                            Atmospheric Concentrations|CO2 ppm   278.328729   \n",
       "model2 1point5  unspecified Surface Temperature            K       0.073214   \n",
       "                            Atmospheric Concentrations|CO2 ppm   278.328729   \n",
       "       2point0  unspecified Surface Temperature            K       0.073214   \n",
       "                            Atmospheric Concentrations|CO2 ppm   278.328729   \n",
       "\n",
       "time                                                             ...  \\\n",
       "model  scenario region      variable                       unit  ...   \n",
       "model1 1point5  unspecified Surface Temperature            K     ...   \n",
       "                            Atmospheric Concentrations|CO2 ppm   ...   \n",
       "model2 1point5  unspecified Surface Temperature            K     ...   \n",
       "                            Atmospheric Concentrations|CO2 ppm   ...   \n",
       "       2point0  unspecified Surface Temperature            K     ...   \n",
       "                            Atmospheric Concentrations|CO2 ppm   ...   \n",
       "\n",
       "time                                                             2091-01-01  \\\n",
       "model  scenario region      variable                       unit               \n",
       "model1 1point5  unspecified Surface Temperature            K       1.771435   \n",
       "                            Atmospheric Concentrations|CO2 ppm   449.740582   \n",
       "model2 1point5  unspecified Surface Temperature            K       1.789245   \n",
       "                            Atmospheric Concentrations|CO2 ppm   450.123424   \n",
       "       2point0  unspecified Surface Temperature            K       1.882770   \n",
       "                            Atmospheric Concentrations|CO2 ppm   465.138584   \n",
       "\n",
       "time                                                             2092-01-01  \\\n",
       "model  scenario region      variable                       unit               \n",
       "model1 1point5  unspecified Surface Temperature            K       1.780465   \n",
       "                            Atmospheric Concentrations|CO2 ppm   449.502258   \n",
       "model2 1point5  unspecified Surface Temperature            K       1.797127   \n",
       "                            Atmospheric Concentrations|CO2 ppm   449.883644   \n",
       "       2point0  unspecified Surface Temperature            K       1.890843   \n",
       "                            Atmospheric Concentrations|CO2 ppm   464.892781   \n",
       "\n",
       "time                                                             2093-01-01  \\\n",
       "model  scenario region      variable                       unit               \n",
       "model1 1point5  unspecified Surface Temperature            K       1.788800   \n",
       "                            Atmospheric Concentrations|CO2 ppm   449.269128   \n",
       "model2 1point5  unspecified Surface Temperature            K       1.804354   \n",
       "                            Atmospheric Concentrations|CO2 ppm   449.648942   \n",
       "       2point0  unspecified Surface Temperature            K       1.898257   \n",
       "                            Atmospheric Concentrations|CO2 ppm   464.652229   \n",
       "\n",
       "time                                                             2094-01-01  \\\n",
       "model  scenario region      variable                       unit               \n",
       "model1 1point5  unspecified Surface Temperature            K       1.793101   \n",
       "                            Atmospheric Concentrations|CO2 ppm   449.040769   \n",
       "model2 1point5  unspecified Surface Temperature            K       1.807553   \n",
       "                            Atmospheric Concentrations|CO2 ppm   449.418916   \n",
       "       2point0  unspecified Surface Temperature            K       1.901639   \n",
       "                            Atmospheric Concentrations|CO2 ppm   464.416474   \n",
       "\n",
       "time                                                             2095-01-01  \\\n",
       "model  scenario region      variable                       unit               \n",
       "model1 1point5  unspecified Surface Temperature            K       1.793840   \n",
       "                            Atmospheric Concentrations|CO2 ppm   448.816213   \n",
       "model2 1point5  unspecified Surface Temperature            K       1.807169   \n",
       "                            Atmospheric Concentrations|CO2 ppm   449.192602   \n",
       "       2point0  unspecified Surface Temperature            K       1.901435   \n",
       "                            Atmospheric Concentrations|CO2 ppm   464.184426   \n",
       "\n",
       "time                                                             2096-01-01  \\\n",
       "model  scenario region      variable                       unit               \n",
       "model1 1point5  unspecified Surface Temperature            K       1.791897   \n",
       "                            Atmospheric Concentrations|CO2 ppm   448.594325   \n",
       "model2 1point5  unspecified Surface Temperature            K       1.804065   \n",
       "                            Atmospheric Concentrations|CO2 ppm   448.968863   \n",
       "       2point0  unspecified Surface Temperature            K       1.898508   \n",
       "                            Atmospheric Concentrations|CO2 ppm   463.954801   \n",
       "\n",
       "time                                                             2097-01-01  \\\n",
       "model  scenario region      variable                       unit               \n",
       "model1 1point5  unspecified Surface Temperature            K       1.788727   \n",
       "                            Atmospheric Concentrations|CO2 ppm   448.374222   \n",
       "model2 1point5  unspecified Surface Temperature            K       1.799684   \n",
       "                            Atmospheric Concentrations|CO2 ppm   448.746809   \n",
       "       2point0  unspecified Surface Temperature            K       1.894302   \n",
       "                            Atmospheric Concentrations|CO2 ppm   463.726589   \n",
       "\n",
       "time                                                             2098-01-01  \\\n",
       "model  scenario region      variable                       unit               \n",
       "model1 1point5  unspecified Surface Temperature            K       1.785634   \n",
       "                            Atmospheric Concentrations|CO2 ppm   448.155331   \n",
       "model2 1point5  unspecified Surface Temperature            K       1.795322   \n",
       "                            Atmospheric Concentrations|CO2 ppm   448.525858   \n",
       "       2point0  unspecified Surface Temperature            K       1.890113   \n",
       "                            Atmospheric Concentrations|CO2 ppm   463.499132   \n",
       "\n",
       "time                                                             2099-01-01  \\\n",
       "model  scenario region      variable                       unit               \n",
       "model1 1point5  unspecified Surface Temperature            K       1.783879   \n",
       "                            Atmospheric Concentrations|CO2 ppm   447.937386   \n",
       "model2 1point5  unspecified Surface Temperature            K       1.792238   \n",
       "                            Atmospheric Concentrations|CO2 ppm   448.305741   \n",
       "       2point0  unspecified Surface Temperature            K       1.887198   \n",
       "                            Atmospheric Concentrations|CO2 ppm   463.272123   \n",
       "\n",
       "time                                                             2100-01-01  \n",
       "model  scenario region      variable                       unit              \n",
       "model1 1point5  unspecified Surface Temperature            K       1.785260  \n",
       "                            Atmospheric Concentrations|CO2 ppm   447.720382  \n",
       "model2 1point5  unspecified Surface Temperature            K       1.792224  \n",
       "                            Atmospheric Concentrations|CO2 ppm   448.086446  \n",
       "       2point0  unspecified Surface Temperature            K       1.887352  \n",
       "                            Atmospheric Concentrations|CO2 ppm   463.045550  \n",
       "\n",
       "[6 rows x 336 columns]"
      ]
     },
     "execution_count": 9,
     "metadata": {},
     "output_type": "execute_result"
    }
   ],
   "source": [
    "x"
   ]
  },
  {
   "cell_type": "code",
   "execution_count": 10,
   "metadata": {},
   "outputs": [
    {
     "data": {
      "text/plain": [
       "[<matplotlib.lines.Line2D at 0x7fe13bf59250>,\n",
       " <matplotlib.lines.Line2D at 0x7fe13bf02910>,\n",
       " <matplotlib.lines.Line2D at 0x7fe13bf02b10>]"
      ]
     },
     "execution_count": 10,
     "metadata": {},
     "output_type": "execute_result"
    },
    {
     "data": {
      "image/png": "[encoded data removed]",
      "text/plain": [
       "<Figure size 432x288 with 1 Axes>"
      ]
     },
     "metadata": {
      "needs_background": "light"
     },
     "output_type": "display_data"
    }
   ],
   "source": [
    "pl.plot(np.arange(1765,2101), x.loc[x.index.get_level_values(3)=='Surface Temperature'].T)"
   ]
  },
  {
   "cell_type": "code",
   "execution_count": 11,
   "metadata": {},
   "outputs": [
    {
     "data": {
      "text/plain": [
       "[<matplotlib.lines.Line2D at 0x7fe13be72150>,\n",
       " <matplotlib.lines.Line2D at 0x7fe13bea1650>,\n",
       " <matplotlib.lines.Line2D at 0x7fe13bea1850>]"
      ]
     },
     "execution_count": 11,
     "metadata": {},
     "output_type": "execute_result"
    },
    {
     "data": {
      "image/png": "[encoded data removed]",
      "text/plain": [
       "<Figure size 432x288 with 1 Axes>"
      ]
     },
     "metadata": {
      "needs_background": "light"
     },
     "output_type": "display_data"
    }
   ],
   "source": [
    "pl.plot(np.arange(1765,2101), x.loc[x.index.get_level_values(3)=='Atmospheric Concentrations|CO2'].T)"
   ]
  },
  {
   "cell_type": "code",
   "execution_count": 12,
   "metadata": {},
   "outputs": [],
   "source": [
    "#x.to_csv('~/junk.csv')"
   ]
  }
 ],
 "metadata": {
  "kernelspec": {
   "display_name": "Python 3",
   "language": "python",
   "name": "python3"
  },
  "language_info": {
   "codemirror_mode": {
    "name": "ipython",
    "version": 3
   },
   "file_extension": ".py",
   "mimetype": "text/x-python",
   "name": "python",
   "nbconvert_exporter": "python",
   "pygments_lexer": "ipython3",
   "version": "3.7.7"
  }
 },
 "nbformat": 4,
 "nbformat_minor": 4
}
